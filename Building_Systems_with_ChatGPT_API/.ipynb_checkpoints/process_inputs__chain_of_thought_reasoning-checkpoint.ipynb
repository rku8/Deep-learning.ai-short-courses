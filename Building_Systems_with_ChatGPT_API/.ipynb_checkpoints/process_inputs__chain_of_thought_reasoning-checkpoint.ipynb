{
 "cells": [
  {
   "cell_type": "markdown",
   "id": "c166d1cc-acfa-425c-8d15-30f9bf4567e1",
   "metadata": {},
   "source": [
    "In this section, we will focus on tasks to process inputs, i.e. the tasks that take the input and generate a useful output, often through a series of steps. It is sometimes important for the model to reason in detail about a problem before answering a specific question.\n",
    "\n",
    "Sometimes a model makes reasoning errors by rushing to an incorrect conclusion, so we can reframe the query to request a series of relevant reasoning steps before the model provides a final answer so that it can think longer and more methodically about the problem. And in general, we call this strategy of asking the model to reason about a problem in steps, \"Chain of thought reasoning\".\n",
    "\n",
    "For some applications, the reasoning process that a model uses to arrive at a final answer would be inappropriate to share with the user. \n",
    "\n",
    "For example, In tutoring applications, we may want to encourage students to work on their answers, but a model's reasoning process about the student's solution could reveal the answer to the student.\n",
    "\n",
    "Inner monologue is a tactic that can be used to mitigate this, and this is just a fancy way of hiding the model's reasoning from the user.\n",
    "The idea of inner monologue is to instruct the model to put parts of the output that are meant to be hidden from the user into a structured format that makes passing them easy. Then, before presenting the output to the user, the output is passed and only part of the output is made visible."
   ]
  },
  {
   "cell_type": "code",
   "execution_count": 1,
   "id": "0a2f1441-88cf-4017-81c3-52399c074474",
   "metadata": {},
   "outputs": [],
   "source": [
    "from utils import get_completion, get_completion_with_openai, get_completion_with_openai_from_messages, get_completion_from_messages\n",
    "%load_ext autoreload\n",
    "%autoreload 2"
   ]
  },
  {
   "cell_type": "code",
   "execution_count": 2,
   "id": "049cc6c0-dafa-419e-952b-6b5218a57133",
   "metadata": {},
   "outputs": [],
   "source": [
    "delimiter = \"####\"\n",
    "system_message = f\"\"\"\n",
    "Follow these steps to answer the customer queries.\n",
    "The customer query will be delimited with four hashtags,\\\n",
    "i.e. {delimiter}. \n",
    "\n",
    "Step 1:{delimiter} First decide whether the user is \\\n",
    "asking a question about a specific product or products. \\\n",
    "Product cateogry doesn't count. \n",
    "\n",
    "Step 2:{delimiter} If the user is asking about \\\n",
    "specific products, identify whether \\\n",
    "the products are in the following list.\n",
    "All available products: \n",
    "1. Product: TechPro Ultrabook\n",
    "   Category: Computers and Laptops\n",
    "   Brand: TechPro\n",
    "   Model Number: TP-UB100\n",
    "   Warranty: 1 year\n",
    "   Rating: 4.5\n",
    "   Features: 13.3-inch display, 8GB RAM, 256GB SSD, Intel Core i5 processor\n",
    "   Description: A sleek and lightweight ultrabook for everyday use.\n",
    "   Price: $799.99\n",
    "\n",
    "2. Product: BlueWave Gaming Laptop\n",
    "   Category: Computers and Laptops\n",
    "   Brand: BlueWave\n",
    "   Model Number: BW-GL200\n",
    "   Warranty: 2 years\n",
    "   Rating: 4.7\n",
    "   Features: 15.6-inch display, 16GB RAM, 512GB SSD, NVIDIA GeForce RTX 3060\n",
    "   Description: A high-performance gaming laptop for an immersive experience.\n",
    "   Price: $1199.99\n",
    "\n",
    "3. Product: PowerLite Convertible\n",
    "   Category: Computers and Laptops\n",
    "   Brand: PowerLite\n",
    "   Model Number: PL-CV300\n",
    "   Warranty: 1 year\n",
    "   Rating: 4.3\n",
    "   Features: 14-inch touchscreen, 8GB RAM, 256GB SSD, 360-degree hinge\n",
    "   Description: A versatile convertible laptop with a responsive touchscreen.\n",
    "   Price: $699.99\n",
    "\n",
    "4. Product: TechPro Desktop\n",
    "   Category: Computers and Laptops\n",
    "   Brand: TechPro\n",
    "   Model Number: TP-DT500\n",
    "   Warranty: 1 year\n",
    "   Rating: 4.4\n",
    "   Features: Intel Core i7 processor, 16GB RAM, 1TB HDD, NVIDIA GeForce GTX 1660\n",
    "   Description: A powerful desktop computer for work and play.\n",
    "   Price: $999.99\n",
    "\n",
    "5. Product: BlueWave Chromebook\n",
    "   Category: Computers and Laptops\n",
    "   Brand: BlueWave\n",
    "   Model Number: BW-CB100\n",
    "   Warranty: 1 year\n",
    "   Rating: 4.1\n",
    "   Features: 11.6-inch display, 4GB RAM, 32GB eMMC, Chrome OS\n",
    "   Description: A compact and affordable Chromebook for everyday tasks.\n",
    "   Price: $249.99\n",
    "\n",
    "Step 3:{delimiter} If the message contains products \\\n",
    "in the list above, list any assumptions that the \\\n",
    "user is making in their \\\n",
    "message e.g. that Laptop X is bigger than \\\n",
    "Laptop Y, or that Laptop Z has a 2 year warranty.\n",
    "\n",
    "Step 4:{delimiter}: If the user made any assumptions, \\\n",
    "figure out whether the assumption is true based on your \\\n",
    "product information. \n",
    "\n",
    "Step 5:{delimiter}: First, politely correct the \\\n",
    "customer's incorrect assumptions if applicable. \\\n",
    "Only mention or reference products in the list of \\\n",
    "5 available products, as these are the only 5 \\\n",
    "products that the store sells. \\\n",
    "Answer the customer in a friendly tone.\n",
    "\n",
    "Use the following format:\n",
    "Step 1:{delimiter} <step 1 reasoning>\n",
    "Step 2:{delimiter} <step 2 reasoning>\n",
    "Step 3:{delimiter} <step 3 reasoning>\n",
    "Step 4:{delimiter} <step 4 reasoning>\n",
    "Response to user:{delimiter} <response to customer>\n",
    "\n",
    "Make sure to include {delimiter} to separate every step.\n",
    "\"\"\""
   ]
  },
  {
   "cell_type": "code",
   "execution_count": 3,
   "id": "5fc43dae-2919-41b4-9d86-8123e75acadc",
   "metadata": {},
   "outputs": [
    {
     "name": "stdout",
     "output_type": "stream",
     "text": [
      "Step 1:#### The customer is asking a question about the price difference between two specific products.\n",
      "\n",
      "Step 2:#### The products mentioned are the BlueWave Chromebook and the TechPro Desktop, which are both in the list of available products.\n",
      "\n",
      "Step 3:#### The customer is making an assumption that the BlueWave Chromebook is more expensive than the TechPro Desktop.\n",
      "\n",
      "Step 4:#### Let's check the prices: the BlueWave Chromebook costs $249.99, and the TechPro Desktop costs $999.99. The TechPro Desktop is actually more expensive than the BlueWave Chromebook.\n",
      "\n",
      "Response to user:#### Hi there! I noticed you're comparing the prices of the BlueWave Chromebook and the TechPro Desktop. Just to clarify, the TechPro Desktop is actually more expensive than the BlueWave Chromebook, with a price difference of $750. If you have any other questions or need help with your purchase, feel free to ask!\n"
     ]
    }
   ],
   "source": [
    "user_message = f\"\"\"\n",
    "by how much is the BlueWave Chromebook more expensive \\\n",
    "than the TechPro Desktop\"\"\"\n",
    "\n",
    "messages =  [  \n",
    "{'role':'system', \n",
    " 'content': system_message},    \n",
    "{'role':'user', \n",
    " 'content': f\"{delimiter}{user_message}{delimiter}\"},  \n",
    "] \n",
    "\n",
    "response = get_completion_from_messages(messages)\n",
    "print(response)"
   ]
  },
  {
   "cell_type": "code",
   "execution_count": 4,
   "id": "7b72e39d-628c-4282-bb0c-763403e7b988",
   "metadata": {},
   "outputs": [
    {
     "name": "stdout",
     "output_type": "stream",
     "text": [
      "Step 1:#### We don't sell refrigerators. Our product catalog only includes computers and laptops.\n",
      "\n",
      "Step 2:#### No, we don't have any refrigerator products in our list.\n",
      "\n",
      "Step 3:#### No assumptions to make, as the user is simply asking if we sell refrigerators.\n",
      "\n",
      "Step 4:#### No need to correct any assumptions, as the user is not making any.\n",
      "\n",
      "Response to user:#### Sorry, we don't sell refrigerators. We specialize in computers and laptops. If you're looking for a new laptop or ultrabook, we have a wide range of options available.\n"
     ]
    }
   ],
   "source": [
    "user_message = f\"\"\"\n",
    "do you sell refrigerator\"\"\"\n",
    "messages =  [  \n",
    "{'role':'system', \n",
    " 'content': system_message},    \n",
    "{'role':'user', \n",
    " 'content': f\"{delimiter}{user_message}{delimiter}\"},  \n",
    "] \n",
    "response = get_completion_from_messages(messages)\n",
    "print(response)"
   ]
  },
  {
   "cell_type": "markdown",
   "id": "f553d9a3-902f-4b4d-a85b-3b90b0ecdf3b",
   "metadata": {},
   "source": [
    "### Inner monologue"
   ]
  },
  {
   "cell_type": "code",
   "execution_count": 5,
   "id": "de8d5b1a-37c9-4b59-bba2-1f6ecd09bde3",
   "metadata": {},
   "outputs": [
    {
     "name": "stdout",
     "output_type": "stream",
     "text": [
      "Sorry, we don't sell refrigerators. We specialize in computers and laptops. If you're looking for a new laptop or ultrabook, we have a wide range of options available.\n"
     ]
    }
   ],
   "source": [
    "try:\n",
    "    final_response = response.split(delimiter)[-1].strip()\n",
    "except Exception as e:\n",
    "    final_response = \"Sorry, I'm having trouble right now, please try asking another question.\"\n",
    "    \n",
    "print(final_response)"
   ]
  },
  {
   "cell_type": "code",
   "execution_count": null,
   "id": "c171c2f0-ea98-4751-8474-e556a0bcf1a8",
   "metadata": {},
   "outputs": [],
   "source": []
  }
 ],
 "metadata": {
  "kernelspec": {
   "display_name": "Python 3 (ipykernel)",
   "language": "python",
   "name": "python3"
  },
  "language_info": {
   "codemirror_mode": {
    "name": "ipython",
    "version": 3
   },
   "file_extension": ".py",
   "mimetype": "text/x-python",
   "name": "python",
   "nbconvert_exporter": "python",
   "pygments_lexer": "ipython3",
   "version": "3.10.11"
  }
 },
 "nbformat": 4,
 "nbformat_minor": 5
}
