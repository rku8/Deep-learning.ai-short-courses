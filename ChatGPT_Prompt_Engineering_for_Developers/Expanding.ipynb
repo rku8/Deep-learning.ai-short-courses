{
 "cells": [
  {
   "cell_type": "code",
   "execution_count": 4,
   "id": "336a9b4d-155c-48dd-8a8d-63a663c52c73",
   "metadata": {},
   "outputs": [],
   "source": [
    "from utils import get_completion\n",
    "%load_ext autoreload\n",
    "%autoreload 2"
   ]
  },
  {
   "cell_type": "markdown",
   "id": "e2c5897f-8a00-48cd-8821-832482fe76d8",
   "metadata": {},
   "source": [
    "## Write email on the behalf of the review and its sentiment"
   ]
  },
  {
   "cell_type": "code",
   "execution_count": 5,
   "id": "c3b802aa-0722-454c-824c-d22bf7453647",
   "metadata": {},
   "outputs": [],
   "source": [
    "# given the sentiment from the lesson on \"inferring\",\n",
    "# and the original customer message, customize the email\n",
    "sentiment = \"negative\"\n",
    "\n",
    "# review for a blender\n",
    "review = f\"\"\"\n",
    "So, they still had the 17 piece system on seasonal \\\n",
    "sale for around $49 in the month of November, about \\\n",
    "half off, but for some reason (call it price gouging) \\\n",
    "around the second week of December the prices all went \\\n",
    "up to about anywhere from between $70-$89 for the same \\\n",
    "system. And the 11 piece system went up around $10 or \\\n",
    "so in price also from the earlier sale price of $29. \\\n",
    "So it looks okay, but if you look at the base, the part \\\n",
    "where the blade locks into place doesn’t look as good \\\n",
    "as in previous editions from a few years ago, but I \\\n",
    "plan to be very gentle with it (example, I crush \\\n",
    "very hard items like beans, ice, rice, etc. in the \\ \n",
    "blender first then pulverize them in the serving size \\\n",
    "I want in the blender then switch to the whipping \\\n",
    "blade for a finer flour, and use the cross cutting blade \\\n",
    "first when making smoothies, then use the flat blade \\\n",
    "if I need them finer/less pulpy). Special tip when making \\\n",
    "smoothies, finely cut and freeze the fruits and \\\n",
    "vegetables (if using spinach-lightly stew soften the \\ \n",
    "spinach then freeze until ready for use-and if making \\\n",
    "sorbet, use a small to medium sized food processor) \\ \n",
    "that you plan to use that way you can avoid adding so \\\n",
    "much ice if at all-when making your smoothie. \\\n",
    "After about a year, the motor was making a funny noise. \\\n",
    "I called customer service but the warranty expired \\\n",
    "already, so I had to buy another one. FYI: The overall \\\n",
    "quality has gone done in these types of products, so \\\n",
    "they are kind of counting on brand recognition and \\\n",
    "consumer loyalty to maintain sales. Got it in about \\\n",
    "two days.\n",
    "\"\"\""
   ]
  },
  {
   "cell_type": "code",
   "execution_count": 6,
   "id": "b14fb709-2524-4a0e-aa47-dcf864a201c4",
   "metadata": {},
   "outputs": [
    {
     "name": "stdout",
     "output_type": "stream",
     "text": [
      "positive\n"
     ]
    }
   ],
   "source": [
    "review = f\"\"\"\n",
    "This particular laptop is performance machine with stylish looks \\\n",
    "and top specs given the budget. Got this laptop in Prime Sale for 40k.\\\n",
    "No one else sells an i5 12th 16 Gigs Ram and 512 Gigs SSD with backlit keyboard \\\n",
    "and metallic body at such a ridiculously price.\n",
    "I believe it value for money. The battery lasted for 5 hours to go from 80% to 20% \\\n",
    "while playing 4K videos. Upto 2160p videos are supported on Youtube \\\n",
    "and you have keyboard backlight control options which have shortcuts on the keyboard itself. \\\n",
    "The keys click nice and soft and it does not look too big while fitting separate numeric keys.\n",
    "Sound is a bit low but we are past the days where we need laptop speaker to boom out media. \\\n",
    "I would say low sound is not a deal breaker for me. However the sound is clear and nice.\n",
    "I explore all possible options and combinations in a given budget \\\n",
    "before buying something and this laptop was just the right fit for me. \\\n",
    "It just hits your sweet spot whether it be your budget, performance requirements or stylish looks.\n",
    "The touchpad though is a bit wobbly. Right clicks are deeper and push the touchpad a but lower than desired.\n",
    "Storage of 512 GB in present times is not sufficient. I solved that with a 2 TB Sandisk portable SSD.\n",
    "\n",
    "All in all, A great purchase.\"\"\"\n",
    "\n",
    "# Extracting sentiment from the review\n",
    "prompt = f\"\"\"\n",
    "Is this review is positive or negative,\\\n",
    "delimited by ```, respond in one word `positive` or `negative`\n",
    "Customer review: ```{review}```\n",
    "\"\"\"\n",
    "sentiment = get_completion(prompt)\n",
    "print(sentiment)"
   ]
  },
  {
   "cell_type": "code",
   "execution_count": 7,
   "id": "50984db1-aa0c-411d-b51c-20f7badc9fda",
   "metadata": {},
   "outputs": [
    {
     "name": "stdout",
     "output_type": "stream",
     "text": [
      "Subject: Thank you for your review!\n",
      "\n",
      "Dear Anonymous,\n",
      "\n",
      "I wanted to take a moment to express my gratitude for taking the time to share your thoughts about your recent purchase of our laptop. We're thrilled to hear that you're enjoying the performance, stylish looks, and top specs of your new device, especially considering the budget-friendly price you got it for in our Prime Sale.\n",
      "\n",
      "We're glad to hear that the battery life has been meeting your expectations, and that you're enjoying the features such as the backlit keyboard, metallic body, and keyboard backlight control options. We're also happy to hear that the sound quality, although not booming, is clear and nice.\n",
      "\n",
      "We appreciate your detailed feedback on the touchpad and storage capacity, and we'll take these points into consideration for future improvements.\n",
      "\n",
      "Once again, thank you for your review and for choosing our laptop. We're glad to have you as a valued customer and hope you continue to enjoy your new device.\n",
      "\n",
      "Best regards,\n",
      "\n",
      "AI Customer Agent\n"
     ]
    }
   ],
   "source": [
    "prompt = f\"\"\"\n",
    "You are a customer service AI assistant.\n",
    "Your task is to send an email reply to a valued customer.\n",
    "Given the customer email delimited by ```, \\\n",
    "Generate a reply to thank the customer for their review.\n",
    "If the sentiment is positive or neutral, thank them for \\\n",
    "their review.\n",
    "If the sentiment is negative, apologize and suggest that \\\n",
    "they can reach out to customer service. \n",
    "Make sure to use specific details from the review.\n",
    "Write in a concise and professional tone.\n",
    "Sign the email as `AI customer agent`.\n",
    "Customer review: ```{review}```\n",
    "Review sentiment: {sentiment}\n",
    "Customer name: {'Anonymous'}\n",
    "\"\"\"\n",
    "response = get_completion(prompt)\n",
    "print(response)"
   ]
  },
  {
   "cell_type": "code",
   "execution_count": null,
   "id": "83fa187c-a9f4-43c8-9654-405a4ab0650e",
   "metadata": {},
   "outputs": [],
   "source": []
  },
  {
   "cell_type": "code",
   "execution_count": 9,
   "id": "0dc559c3-b387-4b6e-b3b6-699a23d7833c",
   "metadata": {},
   "outputs": [
    {
     "name": "stdout",
     "output_type": "stream",
     "text": [
      "Here is the email reply:\n",
      "\n",
      "Dear Anonymous,\n",
      "\n",
      "Thank you for taking the time to share your review of our laptop. We're thrilled to hear that you're enjoying its performance, stylish design, and top-notch specs given its budget-friendly price. It's great to know that you were able to snag it during our Prime Sale for 40k!\n",
      "\n",
      "We're delighted to learn that the laptop has met your expectations, especially with its long battery life, support for 2160p videos, and convenient keyboard backlight control options. We're also glad to hear that you appreciate the keys' soft click and the clear, nice sound quality.\n",
      "\n",
      "We apologize, however, for the wobbly touchpad and the right-click issue. We'll take this feedback into consideration to improve our future products.\n",
      "\n",
      "It's also good to know that you were able to find a solution for the storage capacity by using a 2 TB Sandisk portable SSD.\n",
      "\n",
      "Thank you again for your review, which helps us improve and provide better products for our customers. We're glad to have you as a valued customer!\n",
      "\n",
      "Best regards,\n",
      "\n",
      "AI Customer Agent\n"
     ]
    }
   ],
   "source": [
    "response = get_completion(prompt, temperature=0.7)\n",
    "print(response)"
   ]
  },
  {
   "cell_type": "code",
   "execution_count": 10,
   "id": "6b8e2af9-4f72-46d9-8d90-74c3ba197a62",
   "metadata": {},
   "outputs": [
    {
     "name": "stdout",
     "output_type": "stream",
     "text": [
      "Subject: Re: Your Valuable Feedback on Your Recent Purchase\n",
      "\n",
      "Dear Anonymous,\n",
      "\n",
      "Thank you for taking the time to share your thoughts about your recent purchase of our laptop. We appreciate your detailed review and are thrilled to hear that you're satisfied with its performance, design, and features.\n",
      "\n",
      "We're glad to know that you appreciate the value for money, and that the laptop's specs, including the i5 12th gen processor, 16 GB RAM, and 512 GB SSD, meet your expectations. We're also happy to hear that you enjoy the backlit keyboard, metallic body, and battery life, which lasted for 5 hours while playing 4K videos.\n",
      "\n",
      "We understand that the sound might not be the loudest, but we're glad it's clear and nice for your listening pleasure. We're also happy to hear that you're satisfied with the overall design, including the separate numeric keys and keyboard backlight control options.\n",
      "\n",
      "Regarding the touchpad, we apologize for any inconvenience caused by its wobbliness, and we'll take note of this feedback to improve our future designs. We also understand your concern about the storage capacity, and we're glad you found a solution with the 2 TB Sandisk portable SSD.\n",
      "\n",
      "Once again, thank you for your valuable feedback. We're grateful for customers like you who take the time to share their experiences, and we're glad to hear that you consider this purchase a great one.\n",
      "\n",
      "If you have any further questions or concerns, please don't hesitate to reach out to us. We're always here to help.\n",
      "\n",
      "Thank you for choosing us, and we hope to serve you better in the future.\n",
      "\n",
      "Best regards,\n",
      "\n",
      "AI Customer Agent\n"
     ]
    }
   ],
   "source": [
    "response = get_completion(prompt, temperature=0.7)\n",
    "print(response)"
   ]
  },
  {
   "cell_type": "code",
   "execution_count": null,
   "id": "843cfd02-ef49-42aa-b4bd-0664f5839b15",
   "metadata": {},
   "outputs": [],
   "source": []
  }
 ],
 "metadata": {
  "kernelspec": {
   "display_name": "Python 3 (ipykernel)",
   "language": "python",
   "name": "python3"
  },
  "language_info": {
   "codemirror_mode": {
    "name": "ipython",
    "version": 3
   },
   "file_extension": ".py",
   "mimetype": "text/x-python",
   "name": "python",
   "nbconvert_exporter": "python",
   "pygments_lexer": "ipython3",
   "version": "3.10.11"
  }
 },
 "nbformat": 4,
 "nbformat_minor": 5
}
