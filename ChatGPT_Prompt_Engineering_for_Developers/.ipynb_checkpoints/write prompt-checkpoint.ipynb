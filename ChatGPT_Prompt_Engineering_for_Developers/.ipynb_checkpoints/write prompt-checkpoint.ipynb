{
 "cells": [
  {
   "cell_type": "code",
   "execution_count": 1,
   "id": "bd3c6f65-6f67-4068-8207-4d4866d043d8",
   "metadata": {},
   "outputs": [],
   "source": [
    "import groq"
   ]
  },
  {
   "cell_type": "code",
   "execution_count": 2,
   "id": "cf7fa0ef-1262-460f-9c53-3d8f517db406",
   "metadata": {},
   "outputs": [
    {
     "name": "stdout",
     "output_type": "stream",
     "text": [
      "Package                   Version\n",
      "------------------------- --------------\n",
      "annotated-types           0.7.0\n",
      "anyio                     4.4.0\n",
      "argon2-cffi               23.1.0\n",
      "argon2-cffi-bindings      21.2.0\n",
      "arrow                     1.3.0\n",
      "asttokens                 2.4.1\n",
      "async-lru                 2.0.4\n",
      "attrs                     23.2.0\n",
      "Babel                     2.15.0\n",
      "beautifulsoup4            4.12.3\n",
      "bleach                    6.1.0\n",
      "certifi                   2024.7.4\n",
      "cffi                      1.16.0\n",
      "charset-normalizer        3.3.2\n",
      "colorama                  0.4.6\n",
      "comm                      0.2.2\n",
      "debugpy                   1.8.2\n",
      "decorator                 5.1.1\n",
      "defusedxml                0.7.1\n",
      "distro                    1.9.0\n",
      "exceptiongroup            1.2.2\n",
      "executing                 2.0.1\n",
      "fastjsonschema            2.20.0\n",
      "fqdn                      1.5.1\n",
      "groq                      0.9.0\n",
      "h11                       0.14.0\n",
      "httpcore                  1.0.5\n",
      "httpx                     0.27.0\n",
      "idna                      3.7\n",
      "ipykernel                 6.29.5\n",
      "ipython                   8.26.0\n",
      "ipywidgets                8.1.3\n",
      "isoduration               20.11.0\n",
      "jedi                      0.19.1\n",
      "Jinja2                    3.1.4\n",
      "json5                     0.9.25\n",
      "jsonpointer               3.0.0\n",
      "jsonschema                4.23.0\n",
      "jsonschema-specifications 2023.12.1\n",
      "jupyter                   1.0.0\n",
      "jupyter_client            8.6.2\n",
      "jupyter-console           6.6.3\n",
      "jupyter_core              5.7.2\n",
      "jupyter-events            0.10.0\n",
      "jupyter-lsp               2.2.5\n",
      "jupyter_server            2.14.2\n",
      "jupyter_server_terminals  0.5.3\n",
      "jupyterlab                4.2.4\n",
      "jupyterlab_pygments       0.3.0\n",
      "jupyterlab_server         2.27.3\n",
      "jupyterlab_widgets        3.0.11\n",
      "MarkupSafe                2.1.5\n",
      "matplotlib-inline         0.1.7\n",
      "mistune                   3.0.2\n",
      "nbclient                  0.10.0\n",
      "nbconvert                 7.16.4\n",
      "nbformat                  5.10.4\n",
      "nest-asyncio              1.6.0\n",
      "notebook                  7.2.1\n",
      "notebook_shim             0.2.4\n",
      "overrides                 7.7.0\n",
      "packaging                 24.1\n",
      "pandocfilters             1.5.1\n",
      "parso                     0.8.4\n",
      "pip                       23.0.1\n",
      "platformdirs              4.2.2\n",
      "prometheus_client         0.20.0\n",
      "prompt_toolkit            3.0.47\n",
      "psutil                    6.0.0\n",
      "pure_eval                 0.2.3\n",
      "pycparser                 2.22\n",
      "pydantic                  2.8.2\n",
      "pydantic_core             2.20.1\n",
      "Pygments                  2.18.0\n",
      "python-dateutil           2.9.0.post0\n",
      "python-json-logger        2.0.7\n",
      "pywin32                   306\n",
      "pywinpty                  2.0.13\n",
      "PyYAML                    6.0.1\n",
      "pyzmq                     26.0.3\n",
      "qtconsole                 5.5.2\n",
      "QtPy                      2.4.1\n",
      "referencing               0.35.1\n",
      "requests                  2.32.3\n",
      "rfc3339-validator         0.1.4\n",
      "rfc3986-validator         0.1.1\n",
      "rpds-py                   0.19.1\n",
      "Send2Trash                1.8.3\n",
      "setuptools                65.5.0\n",
      "six                       1.16.0\n",
      "sniffio                   1.3.1\n",
      "soupsieve                 2.5\n",
      "stack-data                0.6.3\n",
      "terminado                 0.18.1\n",
      "tinycss2                  1.3.0\n",
      "tomli                     2.0.1\n",
      "tornado                   6.4.1\n",
      "traitlets                 5.14.3\n",
      "types-python-dateutil     2.9.0.20240316\n",
      "typing_extensions         4.12.2\n",
      "uri-template              1.3.0\n",
      "urllib3                   2.2.2\n",
      "wcwidth                   0.2.13\n",
      "webcolors                 24.6.0\n",
      "webencodings              0.5.1\n",
      "websocket-client          1.8.0\n",
      "widgetsnbextension        4.0.11\n"
     ]
    },
    {
     "name": "stderr",
     "output_type": "stream",
     "text": [
      "\n",
      "[notice] A new release of pip is available: 23.0.1 -> 24.2\n",
      "[notice] To update, run: python.exe -m pip install --upgrade pip\n"
     ]
    }
   ],
   "source": [
    "!pip list"
   ]
  },
  {
   "cell_type": "code",
   "execution_count": 2,
   "id": "acdadec5-30bd-476d-acf4-17c22cc511e4",
   "metadata": {},
   "outputs": [],
   "source": [
    "GROQ_API_KEY = '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'"
   ]
  },
  {
   "cell_type": "code",
   "execution_count": 3,
   "id": "158d8312-bb9c-4cda-80fb-a45529153f2f",
   "metadata": {},
   "outputs": [],
   "source": [
    "from dotenv import load_dotenv\n",
    "import os\n",
    "\n",
    "# Load environment variables from .env file\n",
    "load_dotenv()\n",
    "\n",
    "# Access the API key from environment variables\n",
    "api_key = os.getenv('GROQ_API_KEY')"
   ]
  },
  {
   "cell_type": "code",
   "execution_count": 4,
   "id": "f80a50ba-18d2-410a-9786-caef0d4aca08",
   "metadata": {
    "scrolled": true
   },
   "outputs": [
    {
     "name": "stdout",
     "output_type": "stream",
     "text": [
      "Fast language models have become increasingly important in recent years due to their numerous applications and benefits in various domains. Here are some of the key reasons why fast language models are important:\n",
      "\n",
      "1. **Efficiency**: Fast language models are designed to be computationally efficient, allowing them to process large amounts of text data quickly and accurately. This is particularly important in applications where speed and scalability are critical, such as chatbots, voice assistants, and text summarization.\n",
      "2. **Scalability**: Fast language models can handle large volumes of data and scale to meet the demands of growing datasets and user bases. This makes them ideal for applications where data is constantly being generated and processed, such as social media monitoring and sentiment analysis.\n",
      "3. **Real-time processing**: Fast language models enable real-time processing of text data, which is essential for applications that require immediate responses, such as customer service, language translation, and speech-to-text systems.\n",
      "4. **Improved accuracy**: Fast language models can be trained on large datasets and fine-tuned for specific tasks, leading to improved accuracy and reliability in applications such as text classification, language translation, and named entity recognition.\n",
      "5. **Explainability**: Fast language models can provide insights into how they arrive at their predictions, making them more transparent and explainable. This is particularly important in applications where model interpretability is crucial, such as medical diagnosis and decision-making.\n",
      "6. **Adaptability**: Fast language models can be easily adapted to new domains and tasks, making them versatile and practical for a wide range of applications, such as sentiment analysis, topic modeling, and text generation.\n",
      "7. **Cost-effectiveness**: Fast language models can process large amounts of data using less computational resources, making them more cost-effective and energy-efficient compared to traditional computational methods.\n",
      "8. **Enhanced user experience**: Fast language models can improve the user experience by providing faster and more accurate responses to user inputs, such as chatbots, voice assistants, and search engines.\n",
      "9. **Competitive advantage**: Fast language models can provide a competitive advantage in industries where speed and accuracy are critical, such as finance, healthcare, and e-commerce.\n",
      "10. **Future-proofing**: Fast language models are positioned to play a crucial role in the development of future AI applications, such as natural language processing, dialogue systems, and multimodal learning.\n",
      "\n",
      "Some specific applications that benefit from fast language models include:\n",
      "\n",
      "* Conversational AI systems (e.g., chatbots, virtual assistants)\n",
      "* Natural language processing (NLP) tools for language translation, sentiment analysis, and text classification\n",
      "* Text summarization and information retrieval systems\n",
      "* Question answering and knowledge base construction\n",
      "* Speech recognition and voice assistants\n",
      "* Social media monitoring and sentiment analysis\n",
      "* Document classification and text classification\n",
      "* Text generation and content creation\n",
      "\n",
      "In summary, fast language models are important because they offer improved efficiency, scalability, accuracy, and cost-effectiveness, while also enabling real-time processing, explainability, adaptability, and competitive advantage. Their applications are diverse and far-reaching, with potential impacts on various industries and domains.\n"
     ]
    }
   ],
   "source": [
    "from groq import Groq\n",
    "\n",
    "client = Groq(\n",
    "    api_key=os.getenv('GROQ_API_KEY')\n",
    ")\n",
    "\n",
    "chat_completion = client.chat.completions.create(\n",
    "    messages=[\n",
    "        {\n",
    "            \"role\": \"user\",\n",
    "            \"content\": \"Explain the importance of fast language models\",\n",
    "        }\n",
    "    ],\n",
    "    model=\"llama3-8b-8192\",\n",
    ")\n",
    "\n",
    "print(chat_completion.choices[0].message.content)"
   ]
  },
  {
   "cell_type": "code",
   "execution_count": 5,
   "id": "1ce47cb7-2c07-4459-8831-b1ce5dc79212",
   "metadata": {},
   "outputs": [],
   "source": [
    "def get_completion(prompt: str, model=\"llama3-8b-8192\", client=client) -> str:\n",
    "    chat_completion = client.chat.completions.create(\n",
    "        messages=[\n",
    "            {\n",
    "                \"role\": \"user\",\n",
    "                \"content\": prompt,\n",
    "            }\n",
    "        ],\n",
    "        model=model,\n",
    "    )\n",
    "    \n",
    "    return chat_completion.choices[0].message.content"
   ]
  },
  {
   "cell_type": "markdown",
   "id": "82552ecc-a119-4707-9884-2e5aa4910939",
   "metadata": {},
   "source": [
    "## 1. Write clear instructions"
   ]
  },
  {
   "cell_type": "markdown",
   "id": "d1a7b77d-4376-4ed8-9f15-24f70116de77",
   "metadata": {},
   "source": [
    "### Use of \"\"\" and ``` or others ---, <>, \\</tag> "
   ]
  },
  {
   "cell_type": "code",
   "execution_count": 6,
   "id": "d7848738-efcd-4a69-b35c-bfa2f0f1676d",
   "metadata": {},
   "outputs": [],
   "source": [
    "text = f\"\"\"\n",
    "    Once upon a time, a farmer had a goose that laid a \\\n",
    "    golden egg every day. The farmer used to sell that egg \\\n",
    "    and earn enough money to meet their family's day-to-day \\\n",
    "    needs. One day, the farmer thought that if he could get \\\n",
    "    more such golden eggs and make a lot of money and become \\\n",
    "    a wealthy person. The farmer decided to cut the goose and remove \\\n",
    "    all the golden eggs from its stomach. As soon as they killed the \\\n",
    "    bird and opened the goose’s stomach, they found no eggs. The foolish \\\n",
    "    farmer realized they had destroyed their last resource out of greed. \n",
    "    \"\"\"\n",
    "prompt1 = f\"\"\"\n",
    "    Summarize the text delimited by triple backticks \\ \n",
    "    into a single sentence.\n",
    "    ```{text}```\n",
    "    \"\"\"\n",
    "prompt2 = f\"\"\"\n",
    "    Explain the moral of the text delimited by the triple backticks\\\n",
    "    into a one line.\n",
    "    ```{text}```\n",
    "    \"\"\""
   ]
  },
  {
   "cell_type": "code",
   "execution_count": 7,
   "id": "f7aab23a-c4e2-4c7c-85a7-739dbe9a09cd",
   "metadata": {},
   "outputs": [],
   "source": [
    "response = get_completion(prompt1)"
   ]
  },
  {
   "cell_type": "code",
   "execution_count": 8,
   "id": "1d9870c9-43ae-409d-bd2c-ab26c8fca61a",
   "metadata": {},
   "outputs": [
    {
     "name": "stdout",
     "output_type": "stream",
     "text": [
      "A farmer's greed leads to destruction when they kill their golden egg-laying goose, only to discover that they had been mistaken and there were no more eggs hidden inside.\n"
     ]
    }
   ],
   "source": [
    "print(response)"
   ]
  },
  {
   "cell_type": "code",
   "execution_count": 9,
   "id": "e3a31758-0c5b-4e5e-adf8-a88a64f36515",
   "metadata": {},
   "outputs": [
    {
     "name": "stdout",
     "output_type": "stream",
     "text": [
      "The moral of this text is: Greed can lead to loss of all resources, as the farmer's desperation to get all the golden eggs at once ultimately resulted in the destruction of their only source of income.\n"
     ]
    }
   ],
   "source": [
    "response = get_completion(prompt2)\n",
    "print(response)"
   ]
  },
  {
   "cell_type": "markdown",
   "id": "52c32817-3bb2-4ccb-a274-dada92550dc7",
   "metadata": {},
   "source": [
    "### Ask for structured output HTML, JSON"
   ]
  },
  {
   "cell_type": "code",
   "execution_count": 10,
   "id": "5347b172-39f4-455a-8377-c674cc7a411d",
   "metadata": {},
   "outputs": [],
   "source": [
    "prompt = \"\"\"\n",
    "    Generate the list of the best self help books \\\n",
    "    provide with author, name of book and year of published. \\\n",
    "    Provide them in a JSON format with keys: author_name, book_name, \\\n",
    "    year. Give only 3 books. \"\"\""
   ]
  },
  {
   "cell_type": "code",
   "execution_count": 11,
   "id": "d19633ab-aa06-4600-9947-7bcfb411636b",
   "metadata": {},
   "outputs": [
    {
     "name": "stdout",
     "output_type": "stream",
     "text": [
      "Here are three highly recommended self-help books in JSON format:\n",
      "\n",
      "```\n",
      "[\n",
      "  {\n",
      "    \"author_name\": \"Stephen Covey\",\n",
      "    \"book_name\": \"The 7 Habits of Highly Effective People\",\n",
      "    \"year\": 1989\n",
      "  },\n",
      "  {\n",
      "    \"author_name\": \"Tony Robbins\",\n",
      "    \"book_name\": \"Unshakeable: Your Guide to Financial Freedom\",\n",
      "    \"year\": 2017\n",
      "  },\n",
      "  {\n",
      "    \"author_name\": \"Brené Brown\",\n",
      "    \"book_name\": \"The Gifts of Imperfection\",\n",
      "    \"year\": 2010\n",
      "  }\n",
      "]\n",
      "```\n",
      "\n",
      "Note: The years listed are the original publication dates for each book.\n"
     ]
    }
   ],
   "source": [
    "response = get_completion(prompt)\n",
    "print(response)"
   ]
  },
  {
   "cell_type": "code",
   "execution_count": 12,
   "id": "3af975ea-dd46-4052-88c2-551984ea308b",
   "metadata": {},
   "outputs": [
    {
     "data": {
      "text/plain": [
       "'Here are three highly recommended self-help books in JSON format:\\n\\n```\\n[\\n  {\\n    \"author_name\": \"Stephen Covey\",\\n    \"book_name\": \"The 7 Habits of Highly Effective People\",\\n    \"year\": 1989\\n  },\\n  {\\n    \"author_name\": \"Tony Robbins\",\\n    \"book_name\": \"Unshakeable: Your Guide to Financial Freedom\",\\n    \"year\": 2017\\n  },\\n  {\\n    \"author_name\": \"Brené Brown\",\\n    \"book_name\": \"The Gifts of Imperfection\",\\n    \"year\": 2010\\n  }\\n]\\n```\\n\\nNote: The years listed are the original publication dates for each book.'"
      ]
     },
     "metadata": {},
     "output_type": "display_data"
    }
   ],
   "source": [
    "from IPython.display import display, HTML\n",
    "display(response)"
   ]
  },
  {
   "cell_type": "markdown",
   "id": "4351ff41-8196-4613-a039-3a5dd7729797",
   "metadata": {},
   "source": [
    "### Ask the model to check whether conditions are satisfied"
   ]
  },
  {
   "cell_type": "code",
   "execution_count": 13,
   "id": "fbb421de-f6c7-4ba3-91f1-dfd6f36aab9f",
   "metadata": {},
   "outputs": [],
   "source": [
    "text_1 = f\"\"\"\n",
    "    Making a cup of tea is easy! First, you need to get some \\ \n",
    "    water boiling. While that's happening, \\ \n",
    "    grab a cup and put a tea bag in it. Once the water is \\ \n",
    "    hot enough, just pour it over the tea bag. \\ \n",
    "    Let it sit for a bit so the tea can steep. After a \\ \n",
    "    few minutes, take out the tea bag. If you \\ \n",
    "    like, you can add some sugar or milk to taste. \\ \n",
    "    And that's it! You've got yourself a delicious \\ \n",
    "    cup of tea to enjoy.\n",
    "    \"\"\"\n",
    "prompt = f\"\"\"\n",
    "    You will be provided with text delimited by triple quotes. \n",
    "    If it contains a sequence of instructions, \\ \n",
    "    re-write those instructions in the following format:\n",
    "    \n",
    "    Step 1 - ...\n",
    "    Step 2 - …\n",
    "    …\n",
    "    Step N - …\n",
    "    \n",
    "    If the text does not contain a sequence of instructions, \\ \n",
    "    then simply write \\\"No steps provided.\\\"\n",
    "    \n",
    "    \\\"\\\"\\\"{text_1}\\\"\\\"\\\"\n",
    "    \"\"\""
   ]
  },
  {
   "cell_type": "code",
   "execution_count": 14,
   "id": "212f1aed-4506-4525-9c35-f3d7c38d8502",
   "metadata": {},
   "outputs": [
    {
     "name": "stdout",
     "output_type": "stream",
     "text": [
      "Here are the instructions rewritten in the specified format:\n",
      "\n",
      "Step 1 - Get some water boiling.\n",
      "Step 2 - While the water is boiling, grab a cup and put a tea bag in it.\n",
      "Step 3 - Once the water is hot enough, pour it over the tea bag.\n",
      "Step 4 - Let the tea steep for a bit.\n",
      "Step 5 - After a few minutes, take out the tea bag.\n",
      "Step 6 - If desired, add some sugar or milk to taste.\n",
      "Step 7 - That's it! You've got yourself a delicious cup of tea to enjoy.\n"
     ]
    }
   ],
   "source": [
    "response = get_completion(prompt)\n",
    "print(response)"
   ]
  },
  {
   "cell_type": "code",
   "execution_count": 15,
   "id": "c81ec823-d5d7-4290-9c0e-512103e8c1c8",
   "metadata": {},
   "outputs": [],
   "source": [
    "text_2 = f\"\"\"\n",
    "    The sun is shining brightly today, and the birds are \\\n",
    "    singing. It's a beautiful day to go for a \\ \n",
    "    walk in the park. The flowers are blooming, and the \\ \n",
    "    trees are swaying gently in the breeze. People \\ \n",
    "    are out and about, enjoying the lovely weather. \\ \n",
    "    Some are having picnics, while others are playing \\ \n",
    "    games or simply relaxing on the grass. It's a \\ \n",
    "    perfect day to spend time outdoors and appreciate the \\ \n",
    "    beauty of nature.\n",
    "    \"\"\"\n",
    "prompt = f\"\"\"\n",
    "    You will be provided with text delimited by triple quotes. \n",
    "    If it contains a sequence of instructions, \\ \n",
    "    re-write those instructions in the following format:\n",
    "    \n",
    "    Step 1 - ...\n",
    "    Step 2 - …\n",
    "    …\n",
    "    Step N - …\n",
    "    \n",
    "    If the text does not contain a sequence of instructions, \\ \n",
    "    then simply write \\\"No steps provided.\\\"\n",
    "    \n",
    "    \\\"\\\"\\\"{text_2}\\\"\\\"\\\"\n",
    "\"\"\""
   ]
  },
  {
   "cell_type": "code",
   "execution_count": 16,
   "id": "c59df37f-9f47-44c9-9ec5-b7625d8fdc57",
   "metadata": {},
   "outputs": [
    {
     "name": "stdout",
     "output_type": "stream",
     "text": [
      "\"No steps provided.\"\n"
     ]
    }
   ],
   "source": [
    "response = get_completion(prompt)\n",
    "print(response)"
   ]
  },
  {
   "cell_type": "markdown",
   "id": "07a9e9af-e92d-4907-b244-167f0332c3d1",
   "metadata": {},
   "source": [
    "### Few shot prompting"
   ]
  },
  {
   "cell_type": "code",
   "execution_count": 17,
   "id": "7d71b007-6ad1-4006-8880-7b753946e871",
   "metadata": {},
   "outputs": [],
   "source": [
    "prompt = f\"\"\"\n",
    "    Your task is to answer in a consistent style.\n",
    "    \n",
    "    <child>: Teach me about patience.\n",
    "    \n",
    "    <grandparent>: The river that carves the deepest \\ \n",
    "    valley flows from a modest spring; the \\ \n",
    "    grandest symphony originates from a single note; \\ \n",
    "    the most intricate tapestry begins with a solitary thread.\n",
    "    \n",
    "    <child>: Teach me about resilience.\n",
    "    \"\"\""
   ]
  },
  {
   "cell_type": "code",
   "execution_count": 18,
   "id": "abe7809c-4209-40d3-a4b8-3ce33c438f0c",
   "metadata": {},
   "outputs": [
    {
     "name": "stdout",
     "output_type": "stream",
     "text": [
      "<grandparent>: The mighty tree that withstands the fiercest storms, still \\ \n",
      "stands tall, its roots strengthened by the trials it has faced; the \\ \n",
      "wounded owl that loses its way, nonetheless finds its way back to \\ \n",
      "its forest home; the artist who paints a masterwork despite a trembling hand, \\ \n",
      "creates something beautiful from the fragility of the human form.\n",
      "\n",
      "Note: The responses are in the same style, using metaphors and poetic language to convey wisdom and life lessons.\n"
     ]
    }
   ],
   "source": [
    "response = get_completion(prompt)\n",
    "print(response)"
   ]
  },
  {
   "cell_type": "markdown",
   "id": "bf204749-b34b-478e-b9c9-623339623e3d",
   "metadata": {},
   "source": [
    "## Give the model time to think"
   ]
  },
  {
   "cell_type": "markdown",
   "id": "43551f74-bcbe-4e6d-bb5a-168196fe869b",
   "metadata": {},
   "source": [
    "### Specify the steps required to complete a task"
   ]
  },
  {
   "cell_type": "code",
   "execution_count": 19,
   "id": "cf96ce6a-c159-4cbe-9095-ad242dc08c12",
   "metadata": {},
   "outputs": [],
   "source": [
    "text = f\"\"\"\n",
    "    In a charming village, siblings Jack and Jill set out on \\ \n",
    "    a quest to fetch water from a hilltop \\ \n",
    "    well. As they climbed, singing joyfully, misfortune \\ \n",
    "    struck—Jack tripped on a stone and tumbled \\ \n",
    "    down the hill, with Jill following suit. \\ \n",
    "    Though slightly battered, the pair returned home to \\ \n",
    "    comforting embraces. Despite the mishap, \\ \n",
    "    their adventurous spirits remained undimmed, and they \\ \n",
    "    continued exploring with delight.\n",
    "    \"\"\"\n",
    "# example 1\n",
    "prompt_1 = f\"\"\"\n",
    "    Perform the following actions: \n",
    "    1 - Summarize the following text delimited by triple \\\n",
    "    backticks with 1 sentence.\n",
    "    2 - Translate the summary into French.\n",
    "    3 - List each name in the French summary.\n",
    "    4 - Output a json object that contains the following \\\n",
    "    keys: french_summary, num_names.\n",
    "    \n",
    "    Separate your answers with line breaks.\n",
    "    \n",
    "    Text:\n",
    "    ```{text}```\n",
    "    \"\"\""
   ]
  },
  {
   "cell_type": "code",
   "execution_count": 20,
   "id": "f0e809b5-73dd-47fa-b262-551df9135e1a",
   "metadata": {},
   "outputs": [
    {
     "name": "stdout",
     "output_type": "stream",
     "text": [
      "Here are the answers:\n",
      "\n",
      "**Summary:** The siblings Jack and Jill go on a quest to fetch water from a hilltop well, but their trip is disrupted by an accident, and they return home with bruises but still full of adventure spirit.\n",
      "\n",
      "**French summary:** Les frères et soeurs Jack et Jill partent à la recherche d'eau dans un puits situé au sommet d'une colline, mais leur voyage est interrompu par un accident, et ils reviennent chez eux avec des vertèbres, mais leur esprit aventureux demeure intact.\n",
      "\n",
      "**List of names:** Jack, Jill\n",
      "\n",
      "**JSON object:**\n",
      "```\n",
      "{\n",
      "  \"french_summary\": \"Les frères et soeurs Jack et Jill partent à la recherche d'eau dans un puits situé au sommet d'une colline, mais leur voyage est interrompu par un accident, et ils reviennent chez eux avec des vertèbres, mais leur esprit aventureux demeure intact.\",\n",
      "  \"num_names\": 2\n",
      "}\n",
      "```\n"
     ]
    }
   ],
   "source": [
    "response = get_completion(prompt_1)\n",
    "print(response)"
   ]
  },
  {
   "cell_type": "markdown",
   "id": "99550ba0-147e-4a6a-a8a6-f51174c1314f",
   "metadata": {},
   "source": [
    "### Ask for output in a specified format"
   ]
  },
  {
   "cell_type": "code",
   "execution_count": 21,
   "id": "52822d43-9943-48cb-9a7a-37da2d748032",
   "metadata": {},
   "outputs": [],
   "source": [
    "prompt_2 = f\"\"\"\n",
    "Your task is to perform the following actions: \n",
    "1 - Summarize the following text delimited by \n",
    "  <> with 1 sentence.\n",
    "2 - Translate the summary into French.\n",
    "3 - List each name in the French summary.\n",
    "4 - Output a json object that contains the \n",
    "  following keys: french_summary, num_names.\n",
    "\n",
    "Use the following format:\n",
    "Text: <text to summarize>\n",
    "Summary: <summary>\n",
    "Translation: <summary translation>\n",
    "Names: <list of names in summary>\n",
    "Output JSON: <json with summary and num_names>\n",
    "\n",
    "Text: <{text}>\n",
    "\"\"\""
   ]
  },
  {
   "cell_type": "code",
   "execution_count": 22,
   "id": "6a56cd29-2019-4e42-9bef-7519995c0ff7",
   "metadata": {},
   "outputs": [
    {
     "name": "stdout",
     "output_type": "stream",
     "text": [
      "Here are the required outputs:\n",
      "\n",
      "**Summary:** Siblings Jack and Jill embark on a quest to fetch water from a hilltop well, but misfortune strikes when they both fall down the hill.\n",
      "\n",
      "**Translation:** Les frères et sœurs Jack et Jill partent en quête d'eau à un puits en haut de la colline, mais malheur les frappe lorsqu'ils tombent tous deux du haut de la colline.\n",
      "\n",
      "**Names:** Jack, Jill\n",
      "\n",
      "**Output JSON:**\n",
      "{\n",
      "  \"french_summary\": \"Les frères et sœurs Jack et Jill partent en quête d'eau à un puits en haut de la colline, mais malheur les frappe lorsqu'ils tombent tous deux du haut de la colline.\",\n",
      "  \"num_names\": 2\n",
      "}\n"
     ]
    }
   ],
   "source": [
    "response = get_completion(prompt_2)\n",
    "print(response)"
   ]
  },
  {
   "cell_type": "markdown",
   "id": "6b4a2795-63d2-48e9-addc-7f8ae70eb281",
   "metadata": {},
   "source": [
    "### Instruct the model to work out its own solution before rushing to a conclusion"
   ]
  },
  {
   "cell_type": "code",
   "execution_count": 23,
   "id": "3ee57b6a-05fc-48a1-bbbc-b362de7b0841",
   "metadata": {},
   "outputs": [],
   "source": [
    "prompt = f\"\"\"\n",
    "Determine if the student's solution is correct or not.\n",
    "\n",
    "Question:\n",
    "I'm building a solar power installation and I need \\\n",
    " help working out the financials. \n",
    "- Land costs $100 / square foot\n",
    "- I can buy solar panels for $250 / square foot\n",
    "- I negotiated a contract for maintenance that will cost \\ \n",
    "me a flat $100k per year, and an additional $10 / square \\\n",
    "foot\n",
    "What is the total cost for the first year of operations \n",
    "as a function of the number of square feet.\n",
    "\n",
    "Student's Solution:\n",
    "Let x be the size of the installation in square feet.\n",
    "Costs:\n",
    "1. Land cost: 100x\n",
    "2. Solar panel cost: 250x\n",
    "3. Maintenance cost: 100,000 + 100x\n",
    "Total cost: 100x + 250x + 100,000 + 100x = 450x + 100,000\n",
    "\"\"\""
   ]
  },
  {
   "cell_type": "code",
   "execution_count": 24,
   "id": "edf7024c-564e-411d-a37d-5e4f4a541371",
   "metadata": {},
   "outputs": [
    {
     "name": "stdout",
     "output_type": "stream",
     "text": [
      "The student's solution is correct.\n",
      "\n",
      "The student correctly identified the costs as follows:\n",
      "\n",
      "1. Land cost: $100 per square foot, so the cost is $100x.\n",
      "2. Solar panel cost: $250 per square foot, so the cost is $250x.\n",
      "3. Maintenance cost: A flat fee of $100,000 plus an additional $10 per square foot, so the cost is $100,000 + 10x.\n",
      "4. Total cost: Add up all the costs, which results in: $100x + $250x + $100,000 + $10x = $450x + $100,000.\n",
      "\n",
      "The student's expression, 450x + 100,000, accurately represents the total cost of the solar power installation in terms of the number of square feet, x.\n"
     ]
    }
   ],
   "source": [
    "response = get_completion(prompt)\n",
    "print(response)"
   ]
  },
  {
   "cell_type": "markdown",
   "id": "7d3a815c-69ad-480f-af7d-87cf684e787f",
   "metadata": {},
   "source": [
    "### *Note that the student's solution is actually not correct.*\n",
    "\n",
    "### *We can fix this by instructing the model to work out its own solution first.*"
   ]
  },
  {
   "cell_type": "code",
   "execution_count": 25,
   "id": "bfa414e4-6b10-485e-82ac-1cd3672c8953",
   "metadata": {},
   "outputs": [],
   "source": [
    "prompt = f\"\"\"\n",
    "Your task is to determine if the student's solution \\\n",
    "is correct or not.\n",
    "To solve the problem do the following:\n",
    "- First, work out your own solution to the problem including the final total. \n",
    "- Then compare your solution to the student's solution \\ \n",
    "and evaluate if the student's solution is correct or not. \n",
    "Don't decide if the student's solution is correct until \n",
    "you have done the problem yourself.\n",
    "\n",
    "Use the following format:\n",
    "Question:\n",
    "```\n",
    "question here\n",
    "```\n",
    "Student's solution:\n",
    "```\n",
    "student's solution here\n",
    "```\n",
    "Actual solution:\n",
    "```\n",
    "steps to work out the solution and your solution here\n",
    "```\n",
    "Is the student's solution the same as actual solution \\\n",
    "just calculated:\n",
    "```\n",
    "yes or no\n",
    "```\n",
    "Student grade:\n",
    "```\n",
    "correct or incorrect\n",
    "```\n",
    "\n",
    "Question:\n",
    "```\n",
    "I'm building a solar power installation and I need help \\\n",
    "working out the financials. \n",
    "- Land costs $100 / square foot\n",
    "- I can buy solar panels for $250 / square foot\n",
    "- I negotiated a contract for maintenance that will cost \\\n",
    "me a flat $100k per year, and an additional $10 / square \\\n",
    "foot\n",
    "What is the total cost for the first year of operations \\\n",
    "as a function of the number of square feet.\n",
    "``` \n",
    "Student's solution:\n",
    "```\n",
    "Let x be the size of the installation in square feet.\n",
    "Costs:\n",
    "1. Land cost: 100x\n",
    "2. Solar panel cost: 250x\n",
    "3. Maintenance cost: 100,000 + 100x\n",
    "Total cost: 100x + 250x + 100,000 + 100x = 450x + 100,000\n",
    "```\n",
    "Actual solution:\n",
    "\"\"\""
   ]
  },
  {
   "cell_type": "code",
   "execution_count": 26,
   "id": "82927df8-b71f-48a0-af83-fa6c20035eb5",
   "metadata": {},
   "outputs": [
    {
     "name": "stdout",
     "output_type": "stream",
     "text": [
      "Here's my solution to the problem:\n",
      "\n",
      "```\n",
      "Let x be the size of the installation in square feet.\n",
      "\n",
      "Costs:\n",
      "1. Land cost: 100x (x total square feet times $100 per square foot)\n",
      "2. Solar panel cost: 250x (x total square feet times $250 per square foot)\n",
      "3. Maintenance cost: 100,000 + 10x (flat payment of $100,000 plus an additional $10 per square foot)\n",
      "Total cost: 100x + 250x + 100,000 + 10x = 360x + 100,000\n",
      "```\n",
      "\n",
      "Is the student's solution the same as actual solution just calculated:\n",
      "```\n",
      "no\n",
      "```\n",
      "\n",
      "The student's solution includes a term of 450x in the total cost, whereas the actual solution has a term of 360x.\n",
      "\n",
      "Student grade:\n",
      "```\n",
      "incorrect\n",
      "```\n"
     ]
    }
   ],
   "source": [
    "response = get_completion(prompt)\n",
    "print(response)"
   ]
  },
  {
   "cell_type": "markdown",
   "id": "50f2a043-43ec-4fba-8e42-e2e2ee4ae80a",
   "metadata": {},
   "source": [
    "### Model Limitations: Hallucinations"
   ]
  },
  {
   "cell_type": "code",
   "execution_count": 33,
   "id": "e88dd0d2-a2d3-4c5e-b444-02e596f8da34",
   "metadata": {},
   "outputs": [],
   "source": [
    "prompt = f\"\"\"\n",
    "Tell me about AeroGlide UltraSlim Smart Toothbrush by Hyu\n",
    "\"\"\""
   ]
  },
  {
   "cell_type": "code",
   "execution_count": 34,
   "id": "1a5150a3-f0ad-4666-b079-073c8f4abca4",
   "metadata": {},
   "outputs": [
    {
     "name": "stdout",
     "output_type": "stream",
     "text": [
      "The AeroGlide UltraSlim Smart Toothbrush by Hyu appears to be a high-tech electric toothbrush that promises to provide a superior cleaning experience. Here are some key features and benefits that set it apart:\n",
      "\n",
      "**Design and Handling:**\n",
      "\n",
      "* Slim and ergonomic design makes it easy to maneuver around teeth and gums\n",
      "* Weighs only 1.3 ounces, making it lightweight and comfortable to use\n",
      "* Ergonomic grip provides a secure and comfortable hold\n",
      "\n",
      "**Cleaning Modes and Technology:**\n",
      "\n",
      "* 6 cleaning modes: Clean, Whitening, Massage, Sensitive, Tartar, and HyperClean\n",
      "* Unique \"AeroGlide\" technology that uses a combination of air and water pressure to remove plaque and food particles\n",
      "* Dynamic oscillation and rotation powers up to 40,000 strokes per minute\n",
      "* Advanced sensors detect and adapt to gum line and tooth shape for personalized cleaning\n",
      "* Paired with a smart app that tracks brushing habits, provides personalized feedback, and sends gentle reminders\n",
      "\n",
      "**Additional Features:**\n",
      "\n",
      "* Up to 7-day battery life on a single charge\n",
      "* Fast charging: 30 minutes of charging gives 2 days of use\n",
      "* Waterproof design with IPX7 rating, allowing for use in the shower or in wet environments\n",
      "* Compatible with Bluetooth connectivity for seamless app pairing\n",
      "\n",
      "**Health and Hygiene:**\n",
      "\n",
      "* Removes up to 10x more plaque and 5x more tartar than a regular manual toothbrush\n",
      "* Whitening mode helps remove surface stains and leave teeth looking brighter\n",
      "* Massage mode helps improve gum health and reduce inflammation\n",
      "* Removes food particles and plaque from hard-to-reach areas, reducing the risk of cavities and gum disease\n",
      "\n",
      "**Hyu's Promise:**\n",
      "\n",
      "* Hyu, the manufacturer, claims that the AeroGlide UltraSlim Smart Toothbrush can improve oral health, reduce sensitivity, and even help with whitening teeth over time\n",
      "\n",
      "**Warranty and Customer Support:**\n",
      "\n",
      "* 2-year limited warranty\n",
      "* Multi-language customer support and online resources\n",
      "\n",
      "Overall, the AeroGlide UltraSlim Smart Toothbrush by Hyu seems to be a high-end electric toothbrush that offers advanced cleaning technology, a comfortable design, and personalized features to help improve oral health.\n"
     ]
    }
   ],
   "source": [
    "response = get_completion(prompt)\n",
    "print(response)"
   ]
  },
  {
   "cell_type": "markdown",
   "id": "0c08cc56-967d-48c6-80b4-3c285b45fb3f",
   "metadata": {},
   "source": [
    "## There is no such company **Hyu**"
   ]
  },
  {
   "cell_type": "code",
   "execution_count": null,
   "id": "0a3cdea1-bf38-48d0-9c3b-a9db7e475d38",
   "metadata": {},
   "outputs": [],
   "source": []
  }
 ],
 "metadata": {
  "kernelspec": {
   "display_name": "Python 3 (ipykernel)",
   "language": "python",
   "name": "python3"
  },
  "language_info": {
   "codemirror_mode": {
    "name": "ipython",
    "version": 3
   },
   "file_extension": ".py",
   "mimetype": "text/x-python",
   "name": "python",
   "nbconvert_exporter": "python",
   "pygments_lexer": "ipython3",
   "version": "3.10.11"
  }
 },
 "nbformat": 4,
 "nbformat_minor": 5
}
