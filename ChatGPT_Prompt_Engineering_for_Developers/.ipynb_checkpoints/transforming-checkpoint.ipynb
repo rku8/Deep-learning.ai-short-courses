{
 "cells": [
  {
   "cell_type": "code",
   "execution_count": 1,
   "id": "f949fde7-0c1c-41f7-a76e-9dc5b2a588bd",
   "metadata": {},
   "outputs": [],
   "source": [
    "from utils import get_completion"
   ]
  },
  {
   "cell_type": "code",
   "execution_count": 3,
   "id": "39a51245-a5c1-4cfc-a7cc-797ecb1870f8",
   "metadata": {},
   "outputs": [
    {
     "name": "stdout",
     "output_type": "stream",
     "text": [
      "मेरा नाम रवि कुमार है\n"
     ]
    }
   ],
   "source": [
    "prompt = f\"\"\"\n",
    "    Translate the text into HINDI \\\n",
    "    which is delimitted with single backticks.\n",
    "    Only response translated sentence.\n",
    "    `My name is RAvi Kumar`\n",
    "\"\"\"\n",
    "response = get_completion(prompt)\n",
    "print(response)"
   ]
  },
  {
   "cell_type": "code",
   "execution_count": 4,
   "id": "d0d26c19-f785-4224-aab2-2da6e43da674",
   "metadata": {},
   "outputs": [
    {
     "name": "stdout",
     "output_type": "stream",
     "text": [
      "`Mi nombre es Ravi Kumar`\n"
     ]
    }
   ],
   "source": [
    "prompt = f\"\"\"\n",
    "    Translate the text into SPANISH \\\n",
    "    which is delimitted with single backticks.\n",
    "    Only response translated sentence.\n",
    "    `My name is Ravi Kumar`\n",
    "\"\"\"\n",
    "response = get_completion(prompt)\n",
    "print(response)"
   ]
  },
  {
   "cell_type": "code",
   "execution_count": 8,
   "id": "dd3b28b5-b8ca-4286-ad59-cdcf02f1f389",
   "metadata": {},
   "outputs": [
    {
     "name": "stdout",
     "output_type": "stream",
     "text": [
      "`(wo de míng zì jiào Ravi Kumar)`\n"
     ]
    }
   ],
   "source": [
    "prompt = f\"\"\"\n",
    "    Translate the text into CHINESE \\\n",
    "    which is delimitted with single backticks.\n",
    "    Only response translated sentence.\n",
    "    `My name is Ravi Kumar`\n",
    "\"\"\"\n",
    "response = get_completion(prompt)\n",
    "print(response)"
   ]
  },
  {
   "cell_type": "code",
   "execution_count": 16,
   "id": "9949b9e2-bbd9-4624-ad00-f92986bc4e85",
   "metadata": {},
   "outputs": [
    {
     "name": "stdout",
     "output_type": "stream",
     "text": [
      "Here is the translation:\n",
      "\n",
      "```You are Ravi Kumar```\n",
      "\n",
      "Chinese:```nǐ shì Ravi Kumar```\n",
      "\n",
      "Note: Please keep in mind that there may be variations in translation depending on the context and region. The above translation is in Simplified Chinese characters, which are used in mainland China.\n"
     ]
    }
   ],
   "source": [
    "prompt = f\"\"\"\n",
    "    Translate the text into CHINESE \\\n",
    "    which is delimitted with triple backticks.\n",
    "    For example:\n",
    "    English: 'My name is Ravi Kumar'\n",
    "    Chinese: 'wo de míng zì jiào Ravi Kumar'\n",
    "    ```You are Ravi Kumar```\n",
    "\"\"\"\n",
    "response = get_completion(prompt)\n",
    "print(response)"
   ]
  },
  {
   "cell_type": "markdown",
   "id": "680541ba-9c8c-4986-b373-f531896447ce",
   "metadata": {},
   "source": [
    "### Identify the language"
   ]
  },
  {
   "cell_type": "code",
   "execution_count": 17,
   "id": "a340ccf9-0c15-4917-a453-623bd1368f81",
   "metadata": {},
   "outputs": [
    {
     "name": "stdout",
     "output_type": "stream",
     "text": [
      "A simple one!\n",
      "\n",
      "The language is French.\n"
     ]
    }
   ],
   "source": [
    "prompt = f\"\"\"\n",
    "Tell me which language this is: \n",
    "```Combien coûte le lampadaire?```\n",
    "\"\"\"\n",
    "response = get_completion(prompt)\n",
    "print(response)"
   ]
  },
  {
   "cell_type": "code",
   "execution_count": 18,
   "id": "7a9b29c5-fd24-4105-bb17-17abd27e4fa9",
   "metadata": {},
   "outputs": [
    {
     "name": "stdout",
     "output_type": "stream",
     "text": [
      "Here are the translations:\n",
      "\n",
      "**French:** Je veux passer une commande de basket-ball.\n",
      "\n",
      "**Spanish:** Quiero pedir un baloncesto.\n",
      "\n",
      "**Pirate:** Arrr, me want to order a hoop-n-ball!\n"
     ]
    }
   ],
   "source": [
    "prompt = f\"\"\"\n",
    "Translate the following  text to French and Spanish\n",
    "and English pirate: \\\n",
    "```I want to order a basketball```\n",
    "\"\"\"\n",
    "response = get_completion(prompt)\n",
    "print(response)"
   ]
  },
  {
   "cell_type": "code",
   "execution_count": 19,
   "id": "6a304852-cab9-4033-8364-2c8b8870cd58",
   "metadata": {},
   "outputs": [
    {
     "name": "stdout",
     "output_type": "stream",
     "text": [
      "Here are the translations:\n",
      "\n",
      "**Formal:**\n",
      "\"Would you care to place an order for a pillow?\"\n",
      "\n",
      "**Informal:**\n",
      "\"Wanna grab a pillow?\"\n"
     ]
    }
   ],
   "source": [
    "prompt = f\"\"\"\n",
    "Translate the following text to both the \\\n",
    "formal and informal forms: \n",
    "'Would you like to order a pillow?'\n",
    "\"\"\"\n",
    "response = get_completion(prompt)\n",
    "print(response)"
   ]
  },
  {
   "cell_type": "code",
   "execution_count": null,
   "id": "aa240bb7-d75e-4f0e-ab54-77cb9f834d48",
   "metadata": {},
   "outputs": [],
   "source": []
  }
 ],
 "metadata": {
  "kernelspec": {
   "display_name": "Python 3 (ipykernel)",
   "language": "python",
   "name": "python3"
  },
  "language_info": {
   "codemirror_mode": {
    "name": "ipython",
    "version": 3
   },
   "file_extension": ".py",
   "mimetype": "text/x-python",
   "name": "python",
   "nbconvert_exporter": "python",
   "pygments_lexer": "ipython3",
   "version": "3.10.11"
  }
 },
 "nbformat": 4,
 "nbformat_minor": 5
}
