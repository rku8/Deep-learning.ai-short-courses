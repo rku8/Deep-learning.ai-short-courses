{
 "cells": [
  {
   "cell_type": "code",
   "execution_count": 1,
   "id": "74c91106-e45d-4897-8b4b-2f367029f2f4",
   "metadata": {},
   "outputs": [],
   "source": [
    "from utils import get_completion"
   ]
  },
  {
   "cell_type": "code",
   "execution_count": 2,
   "id": "cad0106a-790d-4304-af42-6fc413a1d9aa",
   "metadata": {},
   "outputs": [],
   "source": [
    "lamp_review = \"\"\"\n",
    "Needed a nice lamp for my bedroom, and this one had \\\n",
    "additional storage and not too high of a price point. \\\n",
    "Got it fast.  The string to our lamp broke during the \\\n",
    "transit and the company happily sent over a new one. \\\n",
    "Came within a few days as well. It was easy to put \\\n",
    "together.  I had a missing part, so I contacted their \\\n",
    "support and they very quickly got me the missing piece! \\\n",
    "Lumina seems to me to be a great company that cares \\\n",
    "about their customers and products!!\n",
    "\"\"\""
   ]
  },
  {
   "cell_type": "markdown",
   "id": "0d6c199e-9cea-41d6-a17f-c1cae96ea065",
   "metadata": {},
   "source": [
    "### Sentiment (Positive/Negative)"
   ]
  },
  {
   "cell_type": "code",
   "execution_count": 7,
   "id": "7d043d3f-ba29-4fd9-b3c2-39478acd8e4d",
   "metadata": {},
   "outputs": [],
   "source": [
    "prompt = f\"\"\"\n",
    "   What is the sentiment of the following product review,\n",
    "   which is delimited with the triple backticks?\n",
    "   Review Text: ```{lamp_review}```\n",
    "\"\"\""
   ]
  },
  {
   "cell_type": "code",
   "execution_count": 9,
   "id": "b54e8891-ba22-48e0-86b5-dc4d20532634",
   "metadata": {},
   "outputs": [
    {
     "name": "stdout",
     "output_type": "stream",
     "text": [
      "The sentiment of the review is overwhelmingly POSITIVE!\n",
      "\n",
      "The reviewer is extremely satisfied with their purchase, mentioning that it met their needs (nice lamp for their bedroom), had additional storage, and was reasonably priced. They also rave about the company's customer service, specifically citing the following:\n",
      "\n",
      "* The company sent a new lamp quickly when one of the strings broke during transit.\n",
      "* They resolved an issue with a missing part quickly and efficiently.\n",
      "\n",
      "The reviewer uses superlatives such as \"happily\", \"very quickly\", and \"great\" to describe their experience, and concludes that Lumina seems to be a company that \"cares about their customers and products\"!\n",
      "\n",
      "Overall, the sentiment is exceptionally positive, with no negative comments or criticisms mentioned throughout the review.\n"
     ]
    }
   ],
   "source": [
    "response = get_completion(prompt)\n",
    "print(response)"
   ]
  },
  {
   "cell_type": "code",
   "execution_count": 10,
   "id": "1c45fe66-0e64-4c19-9f35-3eb5f20d7e11",
   "metadata": {},
   "outputs": [
    {
     "name": "stdout",
     "output_type": "stream",
     "text": [
      "Positive\n"
     ]
    }
   ],
   "source": [
    "prompt = f\"\"\"\n",
    "   What is the sentiment of the following product review,\n",
    "   which is delimited with the triple backticks?\n",
    "\n",
    "   Give answer in a single word either positive or negative.\n",
    "   Review Text: ```{lamp_review}```\n",
    "\"\"\"\n",
    "response = get_completion(prompt)\n",
    "print(response)"
   ]
  },
  {
   "cell_type": "markdown",
   "id": "e8e5d92b-0a98-4984-91fa-4c84e1f704dd",
   "metadata": {},
   "source": [
    "### Identify the type of emotions"
   ]
  },
  {
   "cell_type": "code",
   "execution_count": 18,
   "id": "aed4a5bb-298b-41d8-8099-a8a5045a235e",
   "metadata": {},
   "outputs": [
    {
     "name": "stdout",
     "output_type": "stream",
     "text": [
      "here, happiness, gratitude, relief, surprise\n"
     ]
    }
   ],
   "source": [
    "prompt = f\"\"\"\n",
    "    List down all the emotions that are present in the review, which is delimited with the triple backticks?\n",
    "    Include no more than 5 words.\n",
    "    Output in only list format seperated by commas.\n",
    "    ```{lamp_review}```\n",
    "    \"\"\"\n",
    "response = get_completion(prompt)\n",
    "print(response)"
   ]
  },
  {
   "cell_type": "markdown",
   "id": "9e313a25-e9ae-47e6-a481-140e9cac45a8",
   "metadata": {},
   "source": [
    "### Identify the presence of anger in the review"
   ]
  },
  {
   "cell_type": "code",
   "execution_count": 20,
   "id": "47118b26-af19-45e1-b23f-c73b9a29d565",
   "metadata": {},
   "outputs": [
    {
     "name": "stdout",
     "output_type": "stream",
     "text": [
      "No\n"
     ]
    }
   ],
   "source": [
    "prompt = f\"\"\"\n",
    "    Is the writer of the review is expressing anger \\\n",
    "    The review is delimited with triple backticks? \\\n",
    "    Only give in yes or no format.\n",
    "    ```{lamp_review}```\n",
    "    \"\"\"\n",
    "response = get_completion(prompt)\n",
    "print(response)"
   ]
  },
  {
   "cell_type": "markdown",
   "id": "5718f4ef-0bd5-46e9-8583-95851ee8389c",
   "metadata": {},
   "source": [
    "### Extract product and company name from the review "
   ]
  },
  {
   "cell_type": "code",
   "execution_count": 32,
   "id": "864c02d1-ecc5-478a-ab6d-83945866f80c",
   "metadata": {},
   "outputs": [
    {
     "name": "stdout",
     "output_type": "stream",
     "text": [
      "Here is the extracted information in a JSON object:\n",
      "\n",
      "{\n",
      "\"Item\": \"Lamp\",\n",
      "\"Brand\": \"Lumina\"\n",
      "}\n"
     ]
    }
   ],
   "source": [
    "prompt = f\"\"\"\n",
    "    Please identify the following from review.\n",
    "    - Exract product name.\n",
    "    - Extract company name of the product.\n",
    "    The review is delimited with triple backticks.\n",
    "    Response in a JSON object with keys 'Item' and 'Brand'.\n",
    "    Make your response as short as possible.\n",
    "    Review: ```{lamp_review}```\n",
    "\"\"\"\n",
    "response = get_completion(prompt)\n",
    "print(response)"
   ]
  },
  {
   "cell_type": "markdown",
   "id": "149eaf40-3cb1-4599-ab94-34e1b3807d76",
   "metadata": {},
   "source": [
    "### Identify multiple things"
   ]
  },
  {
   "cell_type": "code",
   "execution_count": 33,
   "id": "96030e91-d3d1-48d5-b778-9d8c4c6e8225",
   "metadata": {},
   "outputs": [
    {
     "name": "stdout",
     "output_type": "stream",
     "text": [
      "{\n",
      "\"sentiment\": \"Positive\",\n",
      "\"rate\": 1,\n",
      "\"product\": \"Lamp\",\n",
      "\"company\": \"Lumina\"\n",
      "}\n"
     ]
    }
   ],
   "source": [
    "prompt = f\"\"\"\n",
    "    Please response the following from the review.\n",
    "    - Sentiment (Positive/ Negative)\n",
    "    - Is this showing anger? (Yes/ No)\n",
    "    - Rate this review between 0 to 1. (0 for anger and 1 for happiness)\n",
    "    - Identify product name\n",
    "    - Identify company name\n",
    "    The review is delimited with triple backticks.\n",
    "    Respond the answer into JSON format with keys \\\n",
    "    \"sentiment\", \"rate\", \"product\", \"company\".\n",
    "    Give a shorter response. Response only in JSON format.\n",
    "    Review Text: ```{lamp_review}```\n",
    "\"\"\"\n",
    "response = get_completion(prompt)\n",
    "print(response)"
   ]
  },
  {
   "cell_type": "markdown",
   "id": "d127973d-8d48-43bd-9cff-cd23d2ea2aa6",
   "metadata": {},
   "source": [
    "### Infering topics"
   ]
  },
  {
   "cell_type": "code",
   "execution_count": 34,
   "id": "ccc507d1-6952-4f87-8ddc-956947d24128",
   "metadata": {},
   "outputs": [],
   "source": [
    "story = \"\"\"\n",
    "In a recent survey conducted by the government, \n",
    "public sector employees were asked to rate their level \n",
    "of satisfaction with the department they work at. \n",
    "The results revealed that NASA was the most popular \n",
    "department with a satisfaction rating of 95%.\n",
    "\n",
    "One NASA employee, John Smith, commented on the findings, \n",
    "stating, \"I'm not surprised that NASA came out on top. \n",
    "It's a great place to work with amazing people and \n",
    "incredible opportunities. I'm proud to be a part of \n",
    "such an innovative organization.\"\n",
    "\n",
    "The results were also welcomed by NASA's management team, \n",
    "with Director Tom Johnson stating, \"We are thrilled to \n",
    "hear that our employees are satisfied with their work at NASA. \n",
    "We have a talented and dedicated team who work tirelessly \n",
    "to achieve our goals, and it's fantastic to see that their \n",
    "hard work is paying off.\"\n",
    "\n",
    "The survey also revealed that the \n",
    "Social Security Administration had the lowest satisfaction \n",
    "rating, with only 45% of employees indicating they were \n",
    "satisfied with their job. The government has pledged to \n",
    "address the concerns raised by employees in the survey and \n",
    "work towards improving job satisfaction across all departments.\n",
    "\"\"\""
   ]
  },
  {
   "cell_type": "code",
   "execution_count": 36,
   "id": "46eddf93-ee28-4ada-b059-8058941339f3",
   "metadata": {},
   "outputs": [
    {
     "name": "stdout",
     "output_type": "stream",
     "text": [
      "Here are five topics from the story, each one or two words long:\n",
      "\n",
      "1. NASA Satisfaction\n",
      "2. Job Satisfaction\n",
      "3. Government Survey\n",
      "4. Employee Opinion\n",
      "5. Workplace Culture\n"
     ]
    }
   ],
   "source": [
    "prompt = f\"\"\"\n",
    "    Please write a five topics from the story\\\n",
    "    which is delimited with the tripple backticks.\n",
    "    Make each topic one or two word long.\n",
    "    Story: ```{story}```\n",
    "    \"\"\"\n",
    "response = get_completion(prompt)\n",
    "print(response)\n",
    "    "
   ]
  },
  {
   "cell_type": "code",
   "execution_count": null,
   "id": "7163cb02-d042-4d04-a10a-61e64ba4f762",
   "metadata": {},
   "outputs": [],
   "source": []
  }
 ],
 "metadata": {
  "kernelspec": {
   "display_name": "Python 3 (ipykernel)",
   "language": "python",
   "name": "python3"
  },
  "language_info": {
   "codemirror_mode": {
    "name": "ipython",
    "version": 3
   },
   "file_extension": ".py",
   "mimetype": "text/x-python",
   "name": "python",
   "nbconvert_exporter": "python",
   "pygments_lexer": "ipython3",
   "version": "3.10.11"
  }
 },
 "nbformat": 4,
 "nbformat_minor": 5
}
